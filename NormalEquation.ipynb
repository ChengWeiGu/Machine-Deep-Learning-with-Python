{
 "cells": [
  {
   "cell_type": "raw",
   "metadata": {},
   "source": [
    "# Normal equation: θ = (X'*X)^-1*X'*y\n",
    "# this eq is more efficient to get the right ANS if fetures n <= 10,000\n",
    "# this is a substitute way for Gradient Descent"
   ]
  },
  {
   "cell_type": "code",
   "execution_count": 1,
   "metadata": {},
   "outputs": [],
   "source": [
    "# Matrix operation\n",
    "import numpy as np"
   ]
  },
  {
   "cell_type": "code",
   "execution_count": 4,
   "metadata": {},
   "outputs": [
    {
     "name": "stdout",
     "output_type": "stream",
     "text": [
      "[[ 6  8]\n",
      " [10 12]]\n",
      "[[-4 -4]\n",
      " [-4 -4]]\n",
      "[[19 22]\n",
      " [43 50]]\n",
      "[[ 12.5   -5.5 ]\n",
      " [-10.75   4.75]]\n",
      "[[1 3]\n",
      " [2 4]]\n"
     ]
    }
   ],
   "source": [
    "# basic cal.\n",
    "A = np.matrix([[1,2],[3,4]])\n",
    "B = np.matrix([[5,6],[7,8]])\n",
    "\n",
    "C = A+B\n",
    "D = A-B\n",
    "E = A*B\n",
    "F = np.linalg.inv(A*B) # take inverse of A*B\n",
    "G = A.transpose()\n",
    "print(C)\n",
    "print(D)\n",
    "print(E)\n",
    "print(F)\n",
    "print(G)"
   ]
  },
  {
   "cell_type": "code",
   "execution_count": 10,
   "metadata": {},
   "outputs": [
    {
     "name": "stdout",
     "output_type": "stream",
     "text": [
      "[[-0.25]\n",
      " [ 0.75]]\n",
      "[[-0.25]\n",
      " [ 0.75]]\n"
     ]
    }
   ],
   "source": [
    "# Consider the the eq: X*θ = y and try to solve θ\n",
    "X = np.matrix([[1,3],[5,7]])\n",
    "y = np.matrix([[2],[4]])\n",
    "\n",
    "# first way: just use θ = X^-1*y\n",
    "print(np.linalg.inv(X)*y)\n",
    "\n",
    "# second way : normal eq\n",
    "X_T = X.transpose()\n",
    "print(np.linalg.inv(X_T*X)*X_T*y)"
   ]
  },
  {
   "cell_type": "code",
   "execution_count": 52,
   "metadata": {},
   "outputs": [
    {
     "data": {
      "image/png": "[encoded data removed]",
      "text/plain": [
       "<Figure size 432x288 with 1 Axes>"
      ]
     },
     "metadata": {},
     "output_type": "display_data"
    }
   ],
   "source": [
    "# Linear Regresssion with Normal eq\n",
    "import matplotlib.pyplot as plt\n",
    "\n",
    "XX = np.linspace(0,10,20)\n",
    "yy = 3*XX + 1 + 5*np.random.randn(20)\n",
    "plt.scatter(XX,yy)\n",
    "plt.show()"
   ]
  },
  {
   "cell_type": "code",
   "execution_count": 65,
   "metadata": {},
   "outputs": [
    {
     "name": "stdout",
     "output_type": "stream",
     "text": [
      "[[2.82166317]\n",
      " [2.90867033]]\n"
     ]
    },
    {
     "data": {
      "image/png": "[encoded data removed]",
      "text/plain": [
       "<Figure size 432x288 with 1 Axes>"
      ]
     },
     "metadata": {},
     "output_type": "display_data"
    }
   ],
   "source": [
    "# X*θ = y\n",
    "matrix_y = np.matrix(yy.reshape(20,1)) # y is 20 by 1 matrix\n",
    "matrix_XX = np.matrix(np.concatenate((np.ones((20,1)),XX.reshape(20,1)),axis = 1)) # XX is 20 by 2 matrix\n",
    "#print(matrix_y)\n",
    "#print(matrix_XX)\n",
    "θ_normal = np.linalg.inv(matrix_XX.T*matrix_XX)*matrix_XX.T*matrix_y # this is normal eq\n",
    "print(θ_normal)\n",
    "# hence, the hypothesis is h = θ0 + θ1*x\n",
    "h = θ_normal[0,0]+θ_normal[1,0]*XX\n",
    "\n",
    "plt.scatter(XX,yy)\n",
    "plt.plot(XX,h, c = 'r')\n",
    "plt.show()"
   ]
  },
  {
   "cell_type": "code",
   "execution_count": null,
   "metadata": {},
   "outputs": [],
   "source": []
  }
 ],
 "metadata": {
  "kernelspec": {
   "display_name": "Python 3",
   "language": "python",
   "name": "python3"
  },
  "language_info": {
   "codemirror_mode": {
    "name": "ipython",
    "version": 3
   },
   "file_extension": ".py",
   "mimetype": "text/x-python",
   "name": "python",
   "nbconvert_exporter": "python",
   "pygments_lexer": "ipython3",
   "version": "3.6.5"
  }
 },
 "nbformat": 4,
 "nbformat_minor": 2
}
