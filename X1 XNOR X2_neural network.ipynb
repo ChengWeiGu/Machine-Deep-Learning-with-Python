{
 "cells": [
  {
   "cell_type": "code",
   "execution_count": 1,
   "metadata": {},
   "outputs": [],
   "source": [
    "# now we follow the model defined below\n",
    "# 1. there are two inputs x1 and x2, which is the firs layer;\n",
    "# 2. there are two activation units a1 and a2, which is the only one hidden layer\n",
    "# 3. one output h which is the third layer\n",
    "\n",
    "import numpy as np\n",
    "import matplotlib.pyplot as plt"
   ]
  },
  {
   "cell_type": "code",
   "execution_count": 2,
   "metadata": {},
   "outputs": [
    {
     "name": "stdout",
     "output_type": "stream",
     "text": [
      "θ1 = [[-30  20  20]]  represents the logic for x1 And x2\n",
      "θ1 = [[ 10 -20 -20]]  represents the logic for (Not x1) And (Not x2)\n",
      "θ2 = [[-10  20  20]]  represents the logic for x1 Or x2\n"
     ]
    }
   ],
   "source": [
    "# mapping1 from x to a1 and a2\n",
    "# mapping2 form a1 and a2 to h\n",
    "# we assume that\n",
    "θ1 = np.matrix([[-30,20,20],[10,-20,-20]])\n",
    "print('θ1 = {} '.format(θ1[0,:]),'represents the logic for x1 And x2')\n",
    "print('θ1 = {} '.format(θ1[1,:]),'represents the logic for (Not x1) And (Not x2)')\n",
    "θ2 = np.matrix([-10,20,20])\n",
    "print('θ2 = {} '.format(θ2[:]),'represents the logic for x1 Or x2')"
   ]
  },
  {
   "cell_type": "code",
   "execution_count": 3,
   "metadata": {},
   "outputs": [],
   "source": [
    "# Generate the input x matrix\n",
    "x1_grid, x2_grid = np.meshgrid(np.linspace(0,1,10), np.linspace(0,1,10))\n",
    "x = np.matrix(np.c_[x1_grid.ravel(),np.ravel(x2_grid)])\n",
    "ones_matrix = np.ones((1,100))\n",
    "X = np.concatenate((ones_matrix,x.T),axis = 0)"
   ]
  },
  {
   "cell_type": "code",
   "execution_count": 4,
   "metadata": {},
   "outputs": [],
   "source": [
    "# define the sigmiod fun\n",
    "def sigmoid(z):\n",
    "    return 1/(1+np.exp(-z))"
   ]
  },
  {
   "cell_type": "code",
   "execution_count": 5,
   "metadata": {},
   "outputs": [
    {
     "name": "stdout",
     "output_type": "stream",
     "text": [
      "[[9.99954561e-01 9.99954220e-01 9.99950968e-01 9.99909593e-01\n",
      "  9.93610720e-01 6.38928039e-03 9.04073180e-05 4.90329653e-05\n",
      "  4.57841748e-05 4.54803785e-05]]\n"
     ]
    }
   ],
   "source": [
    "# compute the output h\n",
    "a2 = sigmoid(θ1*X)\n",
    "a2 = np.concatenate((ones_matrix,a2),axis = 0) # ones always should be taken into account\n",
    "h = sigmoid(θ2*a2) # there are 1 by 100 matrix calcuated\n",
    "print(h[0,:10]) # note that the operation of matrix is pretty diff from array"
   ]
  },
  {
   "cell_type": "code",
   "execution_count": 7,
   "metadata": {},
   "outputs": [
    {
     "data": {
      "image/png": "[encoded data removed]",
      "text/plain": [
       "<Figure size 432x288 with 2 Axes>"
      ]
     },
     "metadata": {},
     "output_type": "display_data"
    }
   ],
   "source": [
    "# the result shows that the diagonal are 1, and 0 otherwise.\n",
    "CF = plt.contourf(x1_grid, x2_grid, h.reshape(10,10), alpha = 0.8, cmap = plt.cm.hot)\n",
    "plt.colorbar(CF)\n",
    "plt.xlabel('x1')\n",
    "plt.ylabel('x2')\n",
    "plt.show()"
   ]
  },
  {
   "cell_type": "code",
   "execution_count": null,
   "metadata": {},
   "outputs": [],
   "source": []
  }
 ],
 "metadata": {
  "kernelspec": {
   "display_name": "Python 3",
   "language": "python",
   "name": "python3"
  },
  "language_info": {
   "codemirror_mode": {
    "name": "ipython",
    "version": 3
   },
   "file_extension": ".py",
   "mimetype": "text/x-python",
   "name": "python",
   "nbconvert_exporter": "python",
   "pygments_lexer": "ipython3",
   "version": "3.6.5"
  }
 },
 "nbformat": 4,
 "nbformat_minor": 2
}
