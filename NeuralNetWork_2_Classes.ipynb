{
 "cells": [
  {
   "cell_type": "code",
   "execution_count": 1,
   "metadata": {},
   "outputs": [],
   "source": [
    "import numpy as np\n",
    "import matplotlib.pyplot as plt\n",
    "from sklearn.datasets import make_blobs"
   ]
  },
  {
   "cell_type": "code",
   "execution_count": 2,
   "metadata": {},
   "outputs": [
    {
     "name": "stdout",
     "output_type": "stream",
     "text": [
      "the initial θ = [[-1.53432554]\n",
      " [-1.90201343]\n",
      " [ 4.75305367]\n",
      " [ 1.61188966]\n",
      " [-4.18911562]\n",
      " [ 1.51744021]\n",
      " [ 3.00088706]\n",
      " [ 1.28397421]\n",
      " [ 2.44388255]\n",
      " [-2.03664871]\n",
      " [-1.48217212]\n",
      " [ 3.59012837]]\n"
     ]
    }
   ],
   "source": [
    "# the example's based on 3 layers of neurons\n",
    "# first layer has x1 and x2 as inputes\n",
    "# second layer has two activation units a1 and a2\n",
    "# third layer has two-output classes\n",
    "\n",
    "# one can define the 1-D θ matrix whose dimension is 12 X 1 \n",
    "ϵ = 5 # a constant to avoid θ being same\n",
    "θ = np.matrix(2*ϵ*np.random.rand(12,1)-ϵ) # random initialization with ϵ\n",
    "print('the initial θ = {}'.format(θ))"
   ]
  },
  {
   "cell_type": "code",
   "execution_count": 3,
   "metadata": {},
   "outputs": [
    {
     "data": {
      "image/png": "[encoded data removed]",
      "text/plain": [
       "<Figure size 432x288 with 1 Axes>"
      ]
     },
     "metadata": {},
     "output_type": "display_data"
    }
   ],
   "source": [
    "# generate the training data\n",
    "X, y = make_blobs(centers=[[-1,-2],[0,3]], n_samples = 40, n_features = 2, random_state = 87)\n",
    "\n",
    "plt.scatter(X[:,0],X[:,1], c = y)\n",
    "plt.show()"
   ]
  },
  {
   "cell_type": "code",
   "execution_count": 4,
   "metadata": {},
   "outputs": [
    {
     "name": "stdout",
     "output_type": "stream",
     "text": [
      "[0 0 0 1 1 1 1 0 1 1]\n",
      "[[ 0.75044345 -1.62097911]\n",
      " [-0.40168186 -2.11749066]\n",
      " [-1.22978487 -0.41880758]\n",
      " [ 0.68063063  0.94119975]\n",
      " [-0.25410036  2.983648  ]\n",
      " [-0.19462903  3.71156075]\n",
      " [-0.53737388  2.9888473 ]\n",
      " [-0.55058012 -3.01455906]\n",
      " [ 0.62706241  1.54015532]\n",
      " [-0.52065055  3.99791674]]\n"
     ]
    }
   ],
   "source": [
    "print(y[:10])\n",
    "print(X[:10,:])"
   ]
  },
  {
   "cell_type": "code",
   "execution_count": 5,
   "metadata": {},
   "outputs": [],
   "source": [
    "# define a fun to add a0 for 1st layer\n",
    "def add_X0(X):\n",
    "    x = np.matrix(np.concatenate((np.ones(1),X), axis = 0)) # for 1-D array, axis always = 0\n",
    "    return x.T\n",
    "\n",
    "# define a fun to add a0 for hidden layers\n",
    "def add_a0(X):\n",
    "    return np.concatenate((np.ones((1,1)),np.matrix(X)), axis = 0)\n",
    "\n",
    "# define the sigmoid fun\n",
    "def sig(Z):\n",
    "    return 1/(1+np.exp(-Z))\n",
    "\n",
    "# define the derivatrive of sigmoid fun\n",
    "def d_sig(Z):\n",
    "    return np.multiply(sig(Z),(1-sig(Z))) # the multiply gives element-element multiplication between matrices\n",
    "\n",
    "# define the cost fun which only sums over (K = numbers of classes)\n",
    "def cosJ(X,Y,a3):\n",
    "    Y_p = np.array(Y)\n",
    "    h = np.array(a3)\n",
    "    L = len(X)\n",
    "    return -1/L*np.sum((Y_p*np.log(h)+(1-Y_p)*np.log(1-h)))"
   ]
  },
  {
   "cell_type": "code",
   "execution_count": 6,
   "metadata": {},
   "outputs": [
    {
     "name": "stdout",
     "output_type": "stream",
     "text": [
      "converged at 1045th step\n",
      "J_ini = 0.1117886; J_fin = 0.1116886\n",
      "weight = [[-2.98244937]\n",
      " [ 0.5668976 ]\n",
      " [11.96811834]\n",
      " [-0.823711  ]\n",
      " [ 1.52748817]\n",
      " [16.15644869]\n",
      " [ 2.39834456]\n",
      " [-3.4352871 ]\n",
      " [-2.11158935]\n",
      " [-2.73832552]\n",
      " [ 1.02573586]\n",
      " [ 5.14800036]]\n"
     ]
    },
    {
     "data": {
      "text/plain": [
       "[<matplotlib.lines.Line2D at 0x9ebdbd2898>]"
      ]
     },
     "execution_count": 6,
     "metadata": {},
     "output_type": "execute_result"
    },
    {
     "data": {
      "image/png": "[encoded data removed]",
      "text/plain": [
       "<Figure size 432x288 with 1 Axes>"
      ]
     },
     "metadata": {},
     "output_type": "display_data"
    }
   ],
   "source": [
    "α = 0.05 # the learning rate\n",
    "n_step = 3000 # the iteration times\n",
    "Y = np.matrix([])\n",
    "D = np.matrix(np.zeros((12,1)))\n",
    "J = list([])\n",
    "J_ini, J_fin = 0, 0 # cost function before and after change\n",
    "Y1 = np.matrix([[1],[0]])\n",
    "Y2 = np.matrix([[0],[1]])\n",
    "\n",
    "for j in range(n_step):\n",
    "    J_fin = 0\n",
    "    D = np.matrix(np.zeros((12,1)))\n",
    "    θ1 = θ[:6].reshape(2,3) # the weight matrix in 1st layer\n",
    "    θ2 = θ[6:].reshape(2,3) # the weight matrix in 2nd layer\n",
    "    for i in range(len(X)): # start the BP: compute the dJ/dθ and sweap all samples\n",
    "\n",
    "        a1 = add_X0(X[i,:])[1:] # 2X1 matrix\n",
    "        a2 = sig(θ1*add_X0(X[i,:])) # 2X1 matrix \n",
    "        a3 = sig(θ2*add_a0(a2)) # 2X1 matrix\n",
    "        # to redefine the output matrix\n",
    "        if y[i] == 0 :\n",
    "            Y = Y1\n",
    "        elif y[i] == 1:\n",
    "            Y = Y2\n",
    "        δ3 = a3-Y # 2X1 matrix\n",
    "        θ2_p = θ2[:,1:] # we can't include first column\n",
    "        δ2 = np.multiply((θ2_p.T)*δ3, d_sig(a2)) # 2X1 matrix\n",
    "        Δ2 = δ3*(np.transpose(add_a0(a2))) # 2X3 matrix\n",
    "        D2 = Δ2/len(X)\n",
    "        Δ1 = δ2*(np.transpose(add_a0(a1))) # 2X3 matrix\n",
    "        D1 = Δ1/len(X)\n",
    "        D += np.concatenate((D1.reshape(6,1),D2.reshape(6,1)),axis = 0) # sum over all training samples\n",
    "        J_fin += cosJ(X,Y,a3)\n",
    "    #print(J_fin)\n",
    "    if (abs(J_fin- J_ini) < 1e-04) & (J_fin < J_ini) & (J_fin < 0.7): # convergence judgement\n",
    "        print('converged at {}th step'.format(j))\n",
    "        print('J_ini = {:.7f}; J_fin = {:.7f}'.format(J_ini,J_fin))\n",
    "        print('weight = {}'.format(θ))\n",
    "        break\n",
    "#     elif J_fin > 2.0:\n",
    "#         break\n",
    "    else:\n",
    "        θ += -α*D # simultaneously update all θij\n",
    "        J_ini = J_fin\n",
    "        J += [J_ini]\n",
    "plt.plot(np.arange(1,len(J)+1), J)"
   ]
  },
  {
   "cell_type": "code",
   "execution_count": 7,
   "metadata": {},
   "outputs": [],
   "source": [
    "# define the prediction fun\n",
    "def predict_prob(X,θ):\n",
    "    X_p = np.concatenate((np.ones((len(X),1)),X),axis = 1)\n",
    "    print(X_p.T)\n",
    "    θ1 = θ[:6].reshape(2,3) # the weight matrix in 1st layer\n",
    "    θ2 = θ[6:].reshape(2,3) # the weight matrix in 2nd layer\n",
    "    a2 = sig(θ1*(X_p.T)) # 2 X N matrix\n",
    "    #print(np.size(a2,1))\n",
    "    a2_p = np.concatenate((np.ones((1,np.size(a2,1))),a2),axis = 0)\n",
    "    a3 = sig(θ2*a2_p) # 2 X N matrix\n",
    "    return a3"
   ]
  },
  {
   "cell_type": "code",
   "execution_count": 8,
   "metadata": {},
   "outputs": [
    {
     "name": "stdout",
     "output_type": "stream",
     "text": [
      "[[ 1.          1.          1.         ...  1.          1.\n",
      "   1.        ]\n",
      " [-5.         -4.47368421 -3.94736842 ...  3.94736842  4.47368421\n",
      "   5.        ]\n",
      " [-6.         -6.         -6.         ...  7.          7.\n",
      "   7.        ]]\n"
     ]
    },
    {
     "data": {
      "image/png": "[encoded data removed]",
      "text/plain": [
       "<Figure size 864x360 with 4 Axes>"
      ]
     },
     "metadata": {},
     "output_type": "display_data"
    }
   ],
   "source": [
    "# to measure if the result is reasonalble\n",
    "x_test, y_test = np.meshgrid(np.linspace(-5,5,20), np.linspace(-6,7,20))\n",
    "input_test = np.c_[x_test.ravel(),np.ravel(y_test)]\n",
    "result = predict_prob(input_test,θ)\n",
    "\n",
    "plt.figure(figsize= (12,5))\n",
    "for k in range(2):\n",
    "    plt.subplot(1,2,k+1)\n",
    "    cmap = result[k,:]\n",
    "    CF = plt.contourf(x_test, y_test, cmap.reshape(20,20), cmap = plt.cm.hot, alpha = 0.75)\n",
    "    plt.colorbar(CF)\n",
    "    plt.xlabel('X1')\n",
    "    plt.ylabel('X2')\n",
    "    plt.title('Class {}'.format(k+1), fontsize = 15)\n",
    "    plt.tight_layout()\n",
    "    plt.scatter(X[:,0],X[:,1], c = y)\n",
    "plt.show()"
   ]
  },
  {
   "cell_type": "code",
   "execution_count": 9,
   "metadata": {},
   "outputs": [
    {
     "name": "stdout",
     "output_type": "stream",
     "text": [
      "[[ 1.]\n",
      " [ 0.]\n",
      " [-4.]]\n"
     ]
    },
    {
     "data": {
      "text/plain": [
       "matrix([[0.91670098],\n",
       "        [0.06074938]])"
      ]
     },
     "execution_count": 9,
     "metadata": {},
     "output_type": "execute_result"
    }
   ],
   "source": [
    "predict_prob([[0,-4]],θ)"
   ]
  },
  {
   "cell_type": "code",
   "execution_count": null,
   "metadata": {},
   "outputs": [],
   "source": []
  }
 ],
 "metadata": {
  "kernelspec": {
   "display_name": "Python 3",
   "language": "python",
   "name": "python3"
  },
  "language_info": {
   "codemirror_mode": {
    "name": "ipython",
    "version": 3
   },
   "file_extension": ".py",
   "mimetype": "text/x-python",
   "name": "python",
   "nbconvert_exporter": "python",
   "pygments_lexer": "ipython3",
   "version": "3.6.5"
  }
 },
 "nbformat": 4,
 "nbformat_minor": 2
}
